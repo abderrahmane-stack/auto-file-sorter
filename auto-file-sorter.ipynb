{
 "cells": [
  {
   "cell_type": "markdown",
   "id": "07c24fa8-bc69-4dcf-965d-48fb7f30609e",
   "metadata": {},
   "source": [
    "#   Automatic File Sorter in File Explorer"
   ]
  },
  {
   "cell_type": "code",
   "execution_count": 5,
   "id": "39814270-4f6b-4804-bc63-9ea1a9b2567c",
   "metadata": {},
   "outputs": [],
   "source": [
    "import os\n",
    "import shutil"
   ]
  },
  {
   "cell_type": "code",
   "execution_count": 29,
   "id": "638363f6-4d3a-4054-9c79-1c1779d09ed1",
   "metadata": {
    "scrolled": true
   },
   "outputs": [
    {
     "ename": "FileNotFoundError",
     "evalue": "[WinError 3] Le chemin d’accès spécifié est introuvable: 'C:\\\\path\\\\to\\\\your\\\\directory'",
     "output_type": "error",
     "traceback": [
      "\u001b[1;31m---------------------------------------------------------------------------\u001b[0m",
      "\u001b[1;31mFileNotFoundError\u001b[0m                         Traceback (most recent call last)",
      "Cell \u001b[1;32mIn[29], line 3\u001b[0m\n\u001b[0;32m      1\u001b[0m \u001b[38;5;66;03m## Define the directory to be sorted\u001b[39;00m\n\u001b[0;32m      2\u001b[0m path\u001b[38;5;241m=\u001b[39m \u001b[38;5;124mr\u001b[39m\u001b[38;5;124m\"\u001b[39m\u001b[38;5;124mC:\u001b[39m\u001b[38;5;124m\\\u001b[39m\u001b[38;5;124mpath\u001b[39m\u001b[38;5;124m\\\u001b[39m\u001b[38;5;124mto\u001b[39m\u001b[38;5;124m\\\u001b[39m\u001b[38;5;124myour\u001b[39m\u001b[38;5;124m\\\u001b[39m\u001b[38;5;124mdirectory\u001b[39m\u001b[38;5;124m\"\u001b[39m\n\u001b[1;32m----> 3\u001b[0m \u001b[43mos\u001b[49m\u001b[38;5;241;43m.\u001b[39;49m\u001b[43mlistdir\u001b[49m\u001b[43m(\u001b[49m\u001b[43mpath\u001b[49m\u001b[43m)\u001b[49m\n",
      "\u001b[1;31mFileNotFoundError\u001b[0m: [WinError 3] Le chemin d’accès spécifié est introuvable: 'C:\\\\path\\\\to\\\\your\\\\directory'"
     ]
    }
   ],
   "source": [
    "## Define the directory to be sorted\n",
    "path= r\"C:\\path\\to\\your\\directory\"\n",
    "os.listdir(path)"
   ]
  },
  {
   "cell_type": "code",
   "execution_count": 24,
   "id": "314ef24a-b828-4271-96d2-cd7113f203c8",
   "metadata": {},
   "outputs": [],
   "source": [
    "# File type categories and their respective extensions\n",
    "file_types = {\n",
    "    'Documents': ['.pdf', '.docx', '.txt', '.xlsx'],\n",
    "    'Images': ['.jpg', '.jpeg', '.png', '.gif'],\n",
    "    'Videos': ['.mp4', '.mkv', '.avi'],\n",
    "    'Music': ['.mp3', '.wav'],\n",
    "    'Archives': ['.zip', '.rar', '.tar'],\n",
    "}\n"
   ]
  },
  {
   "cell_type": "code",
   "execution_count": 25,
   "id": "449f4c45-58df-4107-9295-e602582d7ad0",
   "metadata": {},
   "outputs": [],
   "source": [
    "# Create folders for each category if they do not exist\n",
    "for folder in file_types.keys():\n",
    "    folder_path = os.path.join(path, folder)\n",
    "    if not os.path.exists(folder_path):\n",
    "        os.makedirs(folder_path)"
   ]
  },
  {
   "cell_type": "code",
   "execution_count": 28,
   "id": "0d1cea23-a4b6-40b3-bce0-0f8cb7f047e6",
   "metadata": {},
   "outputs": [],
   "source": [
    "# Sort the files\n",
    "for file_name in os.listdir(path):\n",
    "    file_path = os.path.join(path, file_name)\n",
    "    if os.path.isfile(file_path):  \n",
    "        _, file_extension = os.path.splitext(file_name)\n",
    "        \n",
    "        # Move the file to the corresponding folder\n",
    "        for folder, extensions in file_types.items():\n",
    "            if file_extension.lower() in extensions:\n",
    "                destination = os.path.join(path, folder, file_name)\n",
    "                shutil.move(file_path, destination)\n",
    "                print(f\"Moved: {file_name} to {folder}\")\n",
    "                break"
   ]
  },
  {
   "cell_type": "code",
   "execution_count": null,
   "id": "875cfb9a-1b17-4b4e-bd8d-ff5a884744fa",
   "metadata": {},
   "outputs": [],
   "source": []
  }
 ],
 "metadata": {
  "kernelspec": {
   "display_name": "Python 3 (ipykernel)",
   "language": "python",
   "name": "python3"
  },
  "language_info": {
   "codemirror_mode": {
    "name": "ipython",
    "version": 3
   },
   "file_extension": ".py",
   "mimetype": "text/x-python",
   "name": "python",
   "nbconvert_exporter": "python",
   "pygments_lexer": "ipython3",
   "version": "3.11.5"
  }
 },
 "nbformat": 4,
 "nbformat_minor": 5
}
